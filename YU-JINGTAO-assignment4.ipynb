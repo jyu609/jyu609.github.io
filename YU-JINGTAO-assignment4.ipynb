{
 "cells": [
  {
   "cell_type": "code",
   "execution_count": 46,
   "metadata": {},
   "outputs": [],
   "source": [
    "import matplotlib.pyplot as plt\n",
    "import numpy as np\n",
    "import pandas as pd\n",
    "import ipywidgets"
   ]
  },
  {
   "cell_type": "code",
   "execution_count": 47,
   "metadata": {},
   "outputs": [],
   "source": [
    "ufos = pd.read_csv(\"ufo-scrubbed-geocoded-time-standardized-00.csv\",\n",
    "                  names = [\"date\", \"city\", \"state\", \"country\",\n",
    "                          \"shape\", \"duration_seconds\", \"duration\",\n",
    "                          \"comment\", \"report_date\", \"latitude\", \"longitude\"],\n",
    "                  parse_dates = [\"date\", \"report_date\"])"
   ]
  },
  {
   "cell_type": "code",
   "execution_count": 48,
   "metadata": {},
   "outputs": [],
   "source": [
    "ufos = ufos.fillna({'country':'unknown', 'state':'unknown', 'shape':'unknown'})"
   ]
  },
  {
   "cell_type": "code",
   "execution_count": 49,
   "metadata": {},
   "outputs": [],
   "source": [
    "nsamples = 1000 # make a new dataframe that only has 1000 rows in it\n",
    "downSampleInds = np.random.choice(range(len(ufos)-1), nsamples, replace=False) # replace = False helps with double counting\n",
    "# if you're like 30% on what is going here, that's great"
   ]
  },
  {
   "cell_type": "code",
   "execution_count": 50,
   "metadata": {},
   "outputs": [],
   "source": [
    "ufos = ufos.loc[downSampleInds]"
   ]
  },
  {
   "cell_type": "markdown",
   "metadata": {},
   "source": [
    "# Q1:\n",
    "In this question, users can select all variables from this data set on the x-axis, but for y, users would be only able to select numerical variables which are \"duration_seconds\", \"latitude\", \"longitude\". In addtion, users can also change colormap from the numerical columns. Users are able to select any 2 columns since all the plots have meanings. "
   ]
  },
  {
   "cell_type": "code",
   "execution_count": 51,
   "metadata": {},
   "outputs": [
    {
     "data": {
      "application/vnd.jupyter.widget-view+json": {
       "model_id": "d2ae8442ced74865a8032dd5708abc59",
       "version_major": 2,
       "version_minor": 0
      },
      "text/plain": [
       "interactive(children=(Dropdown(description='x', options=('date', 'city', 'state', 'country', 'shape', 'duratio…"
      ]
     },
     "metadata": {},
     "output_type": "display_data"
    }
   ],
   "source": [
    "@ipywidgets.interact(style=plt.style.available,x = ufos.columns,\n",
    "                     y=['duration_seconds','latitude','longitude'],color = plt.colormaps(),\n",
    "                     z=[\"duration_seconds\", \"latitude\", \"longitude\"])\n",
    "# add three interactive choice bars to be x-values, y-values, and color styles\n",
    "def create_plot(x, y, color, z):        \n",
    "    fig, ax = plt.subplots(figsize=(10,5))\n",
    "    ax.scatter(ufos[x], ufos[y], c=np.log10(ufos[z]), cmap=color)\n",
    "    ax.set_xlabel(x)\n",
    "    ax.set_ylabel(y)\n",
    "    fig.autofmt_xdate(rotation=90)\n",
    "    plt.show()        \n",
    "             "
   ]
  },
  {
   "cell_type": "markdown",
   "metadata": {},
   "source": [
    "# Q2:\n",
    "Users can select from \"date\", \"city\", \"state\", \"country\", \"shape\", \"report_date\" as the x field, because they all have meanings for the plot."
   ]
  },
  {
   "cell_type": "code",
   "execution_count": 52,
   "metadata": {},
   "outputs": [
    {
     "data": {
      "application/vnd.jupyter.widget-view+json": {
       "model_id": "ab9085b99b3e448babe44cc6a1db4b9b",
       "version_major": 2,
       "version_minor": 0
      },
      "text/plain": [
       "interactive(children=(Dropdown(description='column', options=('date', 'city', 'state', 'country', 'shape'), va…"
      ]
     },
     "metadata": {},
     "output_type": "display_data"
    }
   ],
   "source": [
    "Myslider = ipywidgets.IntSlider(min=5,max=50,step=5)\n",
    "@ipywidgets.interact(column = [\"date\", \"city\", \"state\", \"country\", \"shape\"], bins=Myslider)\n",
    "def create_hist(column, bins):\n",
    "    fig,ax = plt.subplots(figsize=(10,5))\n",
    "    ax.hist(x = ufos[column],bins = bins)\n",
    "    ax.set_xlabel(column)\n",
    "    plt.show()"
   ]
  },
  {
   "cell_type": "code",
   "execution_count": null,
   "metadata": {},
   "outputs": [],
   "source": []
  }
 ],
 "metadata": {
  "kernelspec": {
   "display_name": "Python 3",
   "language": "python",
   "name": "python3"
  },
  "language_info": {
   "codemirror_mode": {
    "name": "ipython",
    "version": 3
   },
   "file_extension": ".py",
   "mimetype": "text/x-python",
   "name": "python",
   "nbconvert_exporter": "python",
   "pygments_lexer": "ipython3",
   "version": "3.7.8"
  }
 },
 "nbformat": 4,
 "nbformat_minor": 4
}
